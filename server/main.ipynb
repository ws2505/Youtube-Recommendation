{
 "cells": [
  {
   "cell_type": "code",
   "execution_count": 1,
   "metadata": {},
   "outputs": [],
   "source": [
    "from youtubesearch import YouTubeSearch\n",
    "from sentiment import CommentSentiment"
   ]
  },
  {
   "cell_type": "code",
   "execution_count": 2,
   "metadata": {},
   "outputs": [
    {
     "name": "stdout",
     "output_type": "stream",
     "text": [
      "   \n",
      "        Assert:\n",
      "            ys=youtubesearch('API_KEY.txt')\n",
      "            \n",
      "        Get video response:\n",
      "            vresponse=ys.videosearch(q='JOJO',maxResults=25)\n",
      "            \n",
      "        Get next page:\n",
      "            vresponse_next=ys.videosearch(q='JOJO',maxResults=25,pageToken=vresponse['nextPageToken'])\n",
      "            \n",
      "        Get one page of comments:\n",
      "            videoId=vresponse['items'][0]['id']['videoId']\n",
      "            cresponse=ys.commentsearh(videoId=videoId,maxResults=25)\n",
      "            \n",
      "        Get comment list of one page of comments:\n",
      "            cslist=ys.get_cslist(cresponse)\n",
      "            \n",
      "        Get all comments list:\n",
      "            cslist=ys.get_all_comments(videoId=videoId,maxResults=50(,maxComments=1000))\n",
      "    \n"
     ]
    }
   ],
   "source": [
    "print(YouTubeSearch.__doc__)"
   ]
  },
  {
   "cell_type": "code",
   "execution_count": 5,
   "metadata": {},
   "outputs": [
    {
     "name": "stdout",
     "output_type": "stream",
     "text": [
      "[{'text': 'Hey all! Had to reupload this one to fix some errors and swap out some troublesome music. Whoops! CLICK HERE FOR YOUR FREE TRIAL OF VRV! http://vrv.co/jello\\n\\nVOTE FOR THE NEXT SO THIS IS BASICALLY VIDEO HERE:\\nhttps://www.patreon.com/posts/17338334', 'count': 1264}, {'text': 'johnny cash? more like milagro man', 'count': 1}, {'text': 'You should make one on legend of Korra then make some other video related to how the last airbender is perfect \\n0. O', 'count': 1}, {'text': 'well I haven’t gotten to part 4 yet but I know hermit purple needs connections to what it wants to photograph', 'count': 1}, {'text': 'I have watched this video 10,000 times', 'count': 1}, {'text': \"This is the closest I'll ever get to see Buccellati animated... #Part5Never\", 'count': 1}, {'text': 'Apyr reference? In a jojo reference? 1:31', 'count': 1}, {'text': 'That last part will give me nightmares...', 'count': 1}, {'text': 'Everything always forgets Polnareff could create illusions', 'count': 1}, {'text': 'Part 9 is a trap AD', 'count': 1}, {'text': '1:24 is that a fking egoraptor reference?!', 'count': 1}, {'text': 'This video\\n*Must be the work of an enemy stand!*', 'count': 1}, {'text': 'You should do Seven deadly sins next', 'count': 1}, {'text': 'That was the most interesting use of an add ever, not even mad 🤔', 'count': 1}, {'text': 'RosterTheeh? 😍', 'count': 1}, {'text': '“Indiana Jojo and the friendliest nazi” yeah that’s pretty accurate\\n\\nAlso in the case of Kakyion, he was just being a flashy boy. It was all just him being flamboyant.\\n\\nAnd Joseph in Part 4 would’ve hurt himself trying to find Kira. It only (would have, if they didn’t defeat him while Joseph was arriving) worked with Red Hot Chili Pepper because it was in the electrical wires, and was cohesive with Joseph’s powers. Spirit photography just ended up finding a different stand user entirely from who they wanted to find, like when they kept getting pictures of Angelo. Not to mention they didn’t know what Kira looked like after he changed faces.', 'count': 1}, {'text': 'When I first watched this video I had no idea what was going on, so I went ahead and watched/read a l l of jojo and came back to fully enjoy this video', 'count': 1}, {'text': \"What that a jojo's reference?!?!\", 'count': 1}, {'text': 'that time when its a slice of life until david bowie and his pet cat start blowing up people', 'count': 1}, {'text': 'David Bowie killer mistrery !', 'count': 1}, {'text': 'sooo good', 'count': 1}, {'text': 'Are they stands or *quirks*?', 'count': 1}, {'text': \"Don't forget, David Bowie gets rock hard for hands. No i won't clarify that.\", 'count': 1}, {'text': 'So this is basically battle royal.', 'count': 1}, {'text': 'Have you considered doing a “So This is Basically Metal Gear Solid” video? If you could produce a cohesive JJBA episode, I’m sure you could make an equally satisfying MGS one!', 'count': 1}, {'text': 'I need a looped version of Johnny Cash saying Vrvvrvvrv', 'count': 1}, {'text': 'I have the stone mask you can not see me, I am gonna shoot you in the faaaaace', 'count': 1}, {'text': \"The art is too good. Go back to crappy satire animation plz! It's funny\", 'count': 1}, {'text': '*Chew*', 'count': 2}, {'text': 'So this is basically Black Clover.', 'count': 1}, {'text': 'My stand \"Politico Corrupto\" has the ability to steal ideas for stands as they are great :\\'(', 'count': 1}, {'text': 'Can we all just talk about that amazing ad?', 'count': 1}, {'text': '**dUwANG**', 'count': 2}, {'text': '*C h e w*', 'count': 1}, {'text': '3:28 poor cheese boy', 'count': 1}, {'text': 'Bonjour. Ça Va bien?', 'count': 1}, {'text': 'WHAT HAPPENED TO JOANNE? DID SHE DIE OR DID SHE LIVE?????? ANYONE??????', 'count': 1}, {'text': 'A C C U R A T E', 'count': 1}, {'text': 'Someone needs to taze that rat', 'count': 1}, {'text': 'Part 9 Jolyne >>> Part 6 Jolyne', 'count': 1}, {'text': 'why is johnny cash actually a really good stand idea\\n\\nlike\\n\\nthe ability to fill *anything* with money\\n\\nwould be so fucking useful', 'count': 2}, {'text': 'Finally, an explanation behind all of these memes..', 'count': 1}, {'text': 'I unironically enjoyed this part 9 and I would be really glad if there was a whole video about it', 'count': 1}, {'text': 'Cool concept: \\n\"This Is Basically Over The Garden Wall\"', 'count': 1}, {'text': 'Can you do a \"so this is basically\" be \"So this is basically RWBY\"? because honestly, I would love to hear what you think of the later parts of the series?', 'count': 1}, {'text': \"hey! NICE VIDEO\\nCan i Dub this to the spanish?\\nI'll give you credits obvs.\", 'count': 1}, {'text': 'Make \"So this is basically Fairy Tail\"', 'count': 1}, {'text': 'I love this video', 'count': 1}, {'text': '\"Man Nameless Stand User, Johnny Cash seems pretty overpowered.\"\\n\"Don\\'t worry, they balanced it by only letting it work in North America.\"', 'count': 1}, {'text': 'I love the ad.', 'count': 1}, {'text': 'I was so confused when he mentioned piss drinking that I had to read part five again.', 'count': 1}, {'text': 'So This Is Basically Cartoon Network', 'count': 1}, {'text': \"If Dio was a dinosaur, wouldn't that make him a...\\n\\n\\n\\n\\n\\n\\n\\n\\nDIOsaur?\", 'count': 1}, {'text': '\"But others just kill their user or trap them in a pylon forever\"', 'count': 1}, {'text': '4:55 Hello, Nagisa.', 'count': 1}, {'text': 'Someone who has money to be a patron please request StiB *Over the Garden Wall* and *Kim Possible*', 'count': 1}, {'text': '0:33 Can we just talk about how good that DIO artwork is? Like, hot damn, dude.', 'count': 1}, {'text': 'Be aware that Araki could really take theese pt.9 concepts later.', 'count': 1}, {'text': 'ay, i see the JoJo reference', 'count': 1}, {'text': 'Best ad placement ever.', 'count': 1}, {'text': 'Oke', 'count': 1}, {'text': 'Do not weep for  C  H  E  E  S  E    B  O  Y', 'count': 5}, {'text': \"jojo's bizarre: diamond is unbreakable sucks!\", 'count': 1}, {'text': '5:05 at least she can find the link *below* now.', 'count': 2}, {'text': 'Can you make a so this is basically tokyo ghoul', 'count': 2}, {'text': 'You should do so this basically fornigth \\n\\n\\n\\n\\n\\n\\n\\nPlz.....', 'count': 1}, {'text': \"But don't worry, all the money in the wallet is made into a cushion by Jojo's stand and will save her.\", 'count': 1}, {'text': 'Are we ever gonna get “So This Is Basically The Amazing World Of Gumball”? :0', 'count': 1}, {'text': 'What a shameless plug...', 'count': 1}, {'text': 'Number 5 \\n\\nKING CRIMSON!', 'count': 1}, {'text': 'I HATE JOJO! BOOOOOOOOOOOO WHO WOULD COMPARE HIM TO THE DEONMON DOG GIN?', 'count': 1}, {'text': 'The fact that you incorporated the ad into the video, it actually caught me off guard and it was so brilliant that I actually watched. Genius.', 'count': 1}, {'text': 'Those dogs got me hard', 'count': 2}, {'text': 'They couldnt use Joseph stand in part 4 because there was a stand overload in the town (stand users attract stand users remember?) and I am not sure but I think Joseph tried to locate Josuke via his stand but it didnt work (probably because of the reason above) and thats why he came to morioh because ???being closer to Josuke would amplify his abitilities to locate him??? anyways there is an explanation but you need to be paying actual attention to see it', 'count': 1}, {'text': \"2:16\\nIf that pose by the girl isn't traced by Jolyne then damn you know how to draw.\", 'count': 1}, {'text': 'chew', 'count': 1}, {'text': 'Advertising through JoJo fights. neat.', 'count': 1}, {'text': '\"And sometimes their abilities, too!\"\\n>tfw an ability that could have ended pt3 a lot sooner was never used again', 'count': 1}, {'text': 'I hate what you did with #7', 'count': 1}, {'text': 'Too late. I have already weeped for Cheese Boy', 'count': 1}, {'text': 'Please do Kim Possible or Phineas and Ferb!', 'count': 1}, {'text': 'I loved the referance to the mistakes in the translation in part 9', 'count': 1}, {'text': \"Quick! let's go to america on horses cuz' jesus told me to kill the president!\\n\\n...what\\n\\ni don't know either..\", 'count': 1}, {'text': 'You thought you were watching a video, but it WAS ME, DIO!', 'count': 1}, {'text': \"2:05 It was an Explosion\\nAn Explosion..OF BULLETS!! OwO...I'm not funny.\", 'count': 1}, {'text': 'Could you do \\nSo this is basically godzilla plz', 'count': 1}, {'text': 'vrv still aint in my location *sigh*', 'count': 1}, {'text': '\"And the Friendliest Nazi\" yeah that pretty much sums up Part 2', 'count': 1}, {'text': 'JoJo 1 is number fun', 'count': 1}, {'text': 'I hate most of the part 8 fights because they rely too much on Snapple cap shit rather than actual strategies', 'count': 2}, {'text': 'Is that a jojo reference?', 'count': 1}, {'text': 'How do you make your animation', 'count': 1}, {'text': 'I know i’m late but i just want to say, that my friend thought that cheese boi, american president, jesus, dinosaur and piss drinking scene was all invented by jello... utile i confirm to them that yes those are thing that happens in jojo.', 'count': 1}, {'text': 'im going to kill myself', 'count': 1}, {'text': 'In short words \"every cartoon of 2014 to 2018 sucks\" any hater ??', 'count': 1}, {'text': 'Do gundam', 'count': 1}, {'text': 'Also this is basically fist of the North Star', 'count': 1}, {'text': 'Pls do this is basically berserk', 'count': 1}, {'text': 'Here’s a question, young Joseph or old Joseph?', 'count': 1}, {'text': '1:22 all rise for our beautiful president', 'count': 1}, {'text': 'Am I a weeb now', 'count': 1}, {'text': 'BEST ADVORTISEMENT EVAR!', 'count': 2}, {'text': \"But\\n\\nFunimation is trash\\n\\nRooster teeth just...they gotta stop it's getting worse\\n\\nAnd crunchy roll is just, come on man it's shit\\n\\nBut I love you still.\", 'count': 1}, {'text': 'Shout outs to the best Stand: Cheap Trick\\n\\nKeeping it real since 1999.', 'count': 1}, {'text': '3:31 do not weep for cheese boy', 'count': 1}, {'text': 'Hey jello. I know this is a bit there. But can you do a “So this is basically Kingdom Hearts”', 'count': 1}, {'text': \"I'm pretty agitated, but I have to like for Part 9.\", 'count': 1}, {'text': 'Indiana joege and the friendliest nazi has to be the best part', 'count': 1}, {'text': 'Ambulance is the best Stand.', 'count': 1}, {'text': 'I realy want that one gyes vrv belt', 'count': 1}, {'text': 'He should have ben called shameless plug insted of joney cash', 'count': 1}, {'text': 'boipucci', 'count': 1}, {'text': 'I like kakyoin I’m sad', 'count': 4}, {'text': 'Do Voltron!!', 'count': 1}, {'text': 'H O W   T H E    F U C K    D O E S    K I N G    C R I M S O N    W O R K', 'count': 1}, {'text': 'Im ok with this part 9', 'count': 1}, {'text': 'Pls do fullmetal alchemist brotherhood...', 'count': 2}, {'text': '2:29\\nDestructive power:A\\nPersicion:B\\nDurability:D\\nRange:C\\nPotential:E\\nSpeed:B', 'count': 1}, {'text': 'these part 9 stand designs are not bad', 'count': 1}, {'text': \"I held off for watching it from up until now because I thought it had spoilers.... It didn't\", 'count': 1}, {'text': \"Jojo's Bizarre Adventures part 1 2 34\", 'count': 1}, {'text': 'Do one piece next', 'count': 1}, {'text': 'You should do Hey Arnold! Or Invader Zim next :))', 'count': 1}, {'text': 'Do Creepypasta next!', 'count': 1}, {'text': 'Yo! It’d be dope if you did “So This is Basically Bojack Horseman”. I would love to see that!', 'count': 1}, {'text': 'Johnny Cash is actually pretty cool', 'count': 1}, {'text': \"thats the best sponsor ad i've ever seen\", 'count': 1}, {'text': 'Ye dis is basikaly JojO biZArE ADveNtuRE', 'count': 1}, {'text': 'all jokes aside those stands are actually pretty decent', 'count': 1}, {'text': 'Do not weep for cheese boy', 'count': 1}, {'text': 'this video is so good for the small audience of People who have actually read jojos', 'count': 1}, {'text': 'So this is basically avatar: the last airbender', 'count': 1}, {'text': '2:18 what a beatifull DUWANG', 'count': 1}, {'text': \"this was the most clever way to intergrate a sponsper I've ever seen\", 'count': 1}, {'text': 'Smashmouth 😂', 'count': 1}, {'text': 'the united state president', 'count': 2}, {'text': 'That wallet was hella thick\\n(pls get the reference)', 'count': 1}, {'text': \"No offense, but are the JoJo's Korean or Hungarian or something? (Korean and Hungarian names start with the last (family) name and end with the first (given) name.)\", 'count': 1}, {'text': 'Hey! Fugo got a book so he sort of came back to the series.', 'count': 1}, {'text': 'Your voice reminds me of Caboose from Red vs Blue sometimes.', 'count': 1}, {'text': 'Can you do so this is basically dragon ball or sword art online', 'count': 1}, {'text': 'you forgot Head with tentacles dio.', 'count': 1}, {'text': 'This was the best ad transition ever.', 'count': 1}, {'text': 'I got be it to you the way you did the vrv  thing was impressive', 'count': 1}, {'text': 'SMASH MOUTH', 'count': 1}, {'text': 'Given the “Friends stand around and do nothing” comment, I’m curious to see ‘This is basically Yugioh’', 'count': 1}, {'text': '1:02 *cough cough* SPEEDWAGON *cough cough*', 'count': 2}, {'text': \"Honestly, I didn't realize that was an AD for VRV at the end until it was too late lol\", 'count': 1}, {'text': 'After passing through SEVERAL DOGS', 'count': 1}, {'text': '1:27 Dear God.', 'count': 1}, {'text': \"I'm surprised there was no joke about the ending songs.\", 'count': 1}, {'text': '\"What do you think you\\'re duwang over there\" just killed me', 'count': 1}, {'text': 'wwrrryyyyyyyyyyy~', 'count': 1}, {'text': 'Joseph couldn’t find Kira for the same reason he couldn’t get a picture of Josuke.\\nThere’s too many strong Stand users in Morioh.\\nWhich honestly makes Hermit Purple shittier than I thought it was.', 'count': 2}, {'text': 'I’d watch a full series of that part 9 dude, like the idea for smash mouth and Johnny cash were awesome and Joanna’s design was cool as hell.', 'count': 3}, {'text': '*IS THAT A FUKIN JOJO REFERENCE*', 'count': 1}, {'text': 'Joanne’s design is cute! I wonder what her stand is…', 'count': 1}, {'text': 'Did I just watched an AD... and ENJOYED IT!?', 'count': 1}, {'text': \"I still don't understand what this show is about \\U0001f928😑😶\", 'count': 1}, {'text': 'The cleverest f-----g way to include an advertisement.', 'count': 1}, {'text': \"Smashmouth should have the power to don't stop coming\", 'count': 1}, {'text': 'Dio = Best President.', 'count': 1}, {'text': \"Between this and Rick and Morty's episode I cannot help but to think you have some kind of urine fixiation.\", 'count': 1}, {'text': 'What about when the stand fights become basically little horror movies in part 8 like with Vitamin C and Milagro Man', 'count': 2}, {'text': \"Your voice is so annoying. And i'm sorry your humor sucks lol i guess we're too different. Didn't laugh or even smiled to any of your videos, and i swear i'm fun & smily & laughing a lot in my life lol. I kinda get why... too low level shit trying to act smart... disgusting to me. Lack of honor or respect or self-mockery to pass the pill. \\nI'm gonna block this channel.\", 'count': 1}, {'text': 'JoJo Bizarre Adventure: Horserace with Jesus is best part', 'count': 1}, {'text': 'Fuck yes', 'count': 2}, {'text': 'The character with the cow hat reminds me of nagisa from assasstion classroom -.-', 'count': 1}, {'text': 'It scares me how accurate this is', 'count': 1}, {'text': 'Is no one going to point out that Jello redrew Funny Valentine to look like Trump?', 'count': 3}, {'text': 'The villain in this one I just noticed sounds like Cicero from Skyrim btw', 'count': 1}, {'text': 'Best Sponsor Ever', 'count': 2}, {'text': \"Wait... How did Rohan's abilities change? Am I stupid?\", 'count': 1}, {'text': 'David Bowie murder mystery? That *_actually sounds like a thing_*', 'count': 1}, {'text': \"4:32 thats what she said ,':^)\", 'count': 1}, {'text': \"Jim Jim's bizarre slim jim\", 'count': 1}, {'text': 'I need So this is basically YuGiOh!', 'count': 1}, {'text': 'You know that Smash Mouth power might really be a thing in Jojo', 'count': 1}, {'text': \"What's with that weird, static looking, square, for one frame, at 2:34?\", 'count': 1}, {'text': 'Can you please do this for Undertale omg', 'count': 1}, {'text': 'The most creative way to sponsor something. Make it a JoJo reference.', 'count': 1}, {'text': 'VRV VRV VRV!!!!', 'count': 2}, {'text': 'Can you do this is basically kingdom hearts', 'count': 1}, {'text': 'Very smooth with that Sponsor placement.', 'count': 1}, {'text': \"I'm an avid fan of jojo since i was in highschool, im already 33 years old and i would say, you got all these right. hahahaha\", 'count': 1}, {'text': 'The dude in the thumbnail looks like the frickin Joker!!!', 'count': 1}, {'text': \"He says piss drinking in all of anime.\\nBut he didn't count with part 5 never be animated\", 'count': 2}, {'text': '3:00 that physically hurt me', 'count': 1}, {'text': '5:06 good cliff hanger!', 'count': 1}, {'text': \"Never seen the anime. Don't know what it's about. This did not help at all 😆\", 'count': 1}, {'text': 'Every Jo Jo villain ever:You expected a new villain to show up.But it was ME DIO! *Inster Dio Meme here*', 'count': 1}, {'text': 'Actually both stands in Part 9 are pretty overpowered. \\nFor example, Johnny Cash can fill any wallets with money. If we count any empty space as a wallet he can practically fill your toilet with money to clog it.\\nAnd Mash mouth can make cavity’s in your teeth so you would have to keep on going to the dentist to fill in the cavity hence making you spend more money.', 'count': 2}, {'text': 'Johny test is my favorite stand', 'count': 1}, {'text': '2:29 SOME-', 'count': 1}, {'text': 'Can u do team fortress 2?', 'count': 1}, {'text': 'Omae wa mou shindeiru', 'count': 1}, {'text': 'Smashmouth and Johnny Cash very clever and very useful', 'count': 1}, {'text': '3:45\\n*Nice Mid-Atlantic accent*', 'count': 1}, {'text': 'So this is basically Avatar last Airbender', 'count': 1}, {'text': 'Could you do full metal alchemist brotherhood', 'count': 1}]\n"
     ]
    }
   ],
   "source": [
    "maxResults=1\n",
    "ys=YouTubeSearch()\n",
    "q='JOJO\\'s bizarre adventure'\n",
    "vs=ys.videosearch(q=q,maxResults=maxResults)\n",
    "answers=[]\n",
    "for i in range(maxResults):\n",
    "    try:\n",
    "        cslist=ys.get_all_comment(videoId=vs['items'][i]['id']['videoId'],maxResults=100,maxComments=200)\n",
    "    except:\n",
    "        continue\n",
    "    print(cslist)\n",
    "#     cs=CommentSentiment(cslist)\n",
    "#     answer=cs.polarity()\n",
    "#     answer['videoId']=vs['items'][i]['id']['videoId']\n",
    "#     answers.append(answer)"
   ]
  },
  {
   "cell_type": "code",
   "execution_count": 4,
   "metadata": {},
   "outputs": [
    {
     "data": {
      "text/plain": [
       "([{'count': 11610, 'polarity': 0.22928667540485115, 'videoId': 'CgshWn6edn8'},\n",
       "  {'count': 30645, 'polarity': 0.1746825787760219, 'videoId': 'fX_0ECJp4GM'},\n",
       "  {'count': 5118, 'polarity': 0.15055244690549174, 'videoId': 'INr0ZFS85q0'},\n",
       "  {'count': 7264, 'polarity': 0.4274732593874908, 'videoId': 'dPIFf4rkADE'},\n",
       "  {'count': 2770, 'polarity': 0.09083561815067233, 'videoId': 'W-DTXGVTfkc'},\n",
       "  {'count': 103, 'polarity': 0.3027838457389428, 'videoId': 'OcaiM7jOvAM'},\n",
       "  {'count': 16778, 'polarity': 0.22792942745687308, 'videoId': 'kiuT0l4T1tk'},\n",
       "  {'count': 5405, 'polarity': 0.04424140419476503, 'videoId': '-z_2OpxT244'},\n",
       "  {'count': 1334, 'polarity': -0.04268099121564966, 'videoId': 'mard3s0SlUc'},\n",
       "  {'count': 3429, 'polarity': 0.27068083410300076, 'videoId': 'Y51Udrg77kk'},\n",
       "  {'count': 2873, 'polarity': 0.04680346014244958, 'videoId': 'idF0xEMiOvI'},\n",
       "  {'count': 4, 'polarity': 0.5, 'videoId': '2mnQGOv__5Y'},\n",
       "  {'count': 7281, 'polarity': 0.11071041360527696, 'videoId': 'J9Tn9k6XIvc'},\n",
       "  {'count': 14744, 'polarity': 0.15183656089868508, 'videoId': 'L-Uspyz6Sco'},\n",
       "  {'count': 165, 'polarity': 0.23715144956054043, 'videoId': 'xjhtyeU8AFg'},\n",
       "  {'count': 303, 'polarity': 0.31684764742230526, 'videoId': 'i9L_WVLF86I'},\n",
       "  {'count': 2879, 'polarity': 0.3851574049881257, 'videoId': 'iwGX6JPE9-8'},\n",
       "  {'count': 3660, 'polarity': 0.16348378472233613, 'videoId': 'RS0YtcWDXFI'},\n",
       "  {'count': 45, 'polarity': -0.17, 'videoId': 'wUgRgfSyhls'},\n",
       "  {'count': 2545, 'polarity': 0.16137944816505972, 'videoId': 'Ebi_XWoMBu4'},\n",
       "  {'count': 7626, 'polarity': 0.32096828406694533, 'videoId': 'R3ivFhgcLEY'},\n",
       "  {'count': 7716, 'polarity': 0.15284962622544662, 'videoId': 'Ln8EliqdVuo'},\n",
       "  {'count': 14, 'polarity': 0.13222257653061226, 'videoId': 'Xrq23TJQuas'},\n",
       "  {'count': 16612, 'polarity': 0.15435529419782326, 'videoId': 'qMDXTvueHKs'},\n",
       "  {'count': 11743, 'polarity': 0.41902658827196976, 'videoId': 'uHal-8-OhFI'}],\n",
       " 109.66096568107605)"
      ]
     },
     "execution_count": 4,
     "metadata": {},
     "output_type": "execute_result"
    }
   ],
   "source": [
    "answers,end-start"
   ]
  },
  {
   "cell_type": "code",
   "execution_count": null,
   "metadata": {
    "collapsed": true
   },
   "outputs": [],
   "source": []
  }
 ],
 "metadata": {
  "kernelspec": {
   "display_name": "Python 3",
   "language": "python",
   "name": "python3"
  },
  "language_info": {
   "codemirror_mode": {
    "name": "ipython",
    "version": 3
   },
   "file_extension": ".py",
   "mimetype": "text/x-python",
   "name": "python",
   "nbconvert_exporter": "python",
   "pygments_lexer": "ipython3",
   "version": "3.6.4"
  }
 },
 "nbformat": 4,
 "nbformat_minor": 2
}
